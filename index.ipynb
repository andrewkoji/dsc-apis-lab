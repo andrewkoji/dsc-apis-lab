{
 "cells": [
  {
   "cell_type": "markdown",
   "metadata": {},
   "source": [
    "# APIs - Cumulative Lab\n",
    "\n",
    "\n",
    "## Introduction \n",
    "\n",
    "We've seen how the Yelp API works and how to create basic visualizations using Folium. It's time to put those skills to work in order to create a working map! Taking things a step further, you'll also independently explore how to perform pagination in order to retrieve a full results set from the Yelp API.\n",
    "\n",
    "## Objectives\n",
    "\n",
    "You will be able to: \n",
    "\n",
    "* Practice using functions to organize your code\n",
    "* Use pagination to retrieve all results from an API query\n",
    "* Practice parsing data returned from an API query\n",
    "* Practice interpreting visualizations of a dataset\n",
    "* Create maps using Folium"
   ]
  },
  {
   "cell_type": "markdown",
   "metadata": {},
   "source": [
    "## Your Task: Query Yelp for All Businesses in a Category and Analyze the Results\n",
    "\n",
    "![restaurant counter with pizza](images/restaurant_counter.jpg)\n",
    "\n",
    "Photo by <a href=\"https://unsplash.com/@jordanmadrid?utm_source=unsplash&utm_medium=referral&utm_content=creditCopyText\">Jordan Madrid</a> on <a href=\"/s/photos/pizza-restaurant?utm_source=unsplash&utm_medium=referral&utm_content=creditCopyText\">Unsplash</a>"
   ]
  },
  {
   "cell_type": "markdown",
   "metadata": {},
   "source": [
    "### Overview\n",
    "\n",
    "You've now worked with some API calls, but we have yet to see how to retrieve a more complete dataset in a programmatic manner. In this lab, you will write a query of businesses on Yelp, then use *pagination* to retrieve all possible results for that query. Then you will create a summary of your findings, including a Folium map of the geographic locations of those businesses.\n",
    "\n",
    "### Technical Details\n",
    "\n",
    "Returning to the Yelp API, the [documentation](https://www.yelp.com/developers/documentation/v3/business_search) also provides us details regarding the **API limits**. These often include details about the number of requests a user is allowed to make within a specified time limit and the maximum number of results to be returned. In this case, we are told that any request has a **maximum of 50 results per request** and defaults to 20. Furthermore, any search will be limited to a **total of 1000 results**. To retrieve all 1000 of these results, we would have to page through the results piece by piece, retrieving 50 at a time. Processes such as these are often referred to as pagination.\n",
    "\n",
    "Also, be mindful of the **API** ***rate*** **limits**. You can only make **5000 requests per day** and are also can make requests too fast. Start prototyping small before running a loop that could be faulty. You can also use `time.sleep(n)` to add delays. For more details see https://www.yelp.com/developers/documentation/v3/rate_limiting.\n",
    "\n",
    "In this lab, you will define a search and then paginate over the results to retrieve all of the results. You'll then parse these responses as a list of dictionaries (for further exploration) and create a map using Folium to visualize the results geographically.\n",
    "\n",
    "### Requirements\n",
    "\n",
    "#### 1. Make the Initial Request\n",
    "\n",
    "Start by filling in your API key to make the initial request to the business search API. Investigate the structure of the response you get back and start figuring out how you will extract the relevant information.\n",
    "\n",
    "#### 2. Add Pagination\n",
    "\n",
    "Using loops and functions, collect the maximum number of results for your query from the API.\n",
    "\n",
    "#### 3. Perform Exploratory Analysis\n",
    "\n",
    "Interpret visualizations related to the price range, average rating, and number of reviews for all query results.\n",
    "\n",
    "#### 4. Create a Folium Map\n",
    "\n",
    "Using latitude and longitude data, plot the query results on an interactive map."
   ]
  },
  {
   "cell_type": "markdown",
   "metadata": {},
   "source": [
    "## 1. Make the Initial Request\n",
    "\n",
    "### Querying\n",
    "\n",
    "Start by making an initial request to the Yelp API. Your search must include at least 2 parameters: **term** and **location**. For example, you might search for pizza restaurants in NYC. The term and location is up to you but make the request below.\n",
    "\n",
    "Use the `requests` library ([documentation here](https://requests.readthedocs.io/en/master/user/quickstart/#make-a-request)).\n",
    "\n",
    "You'll also need an API key from Yelp. If you haven't done this already, go to the Yelp [Manage App page](https://www.yelp.com/developers/v3/manage_app) and create a new app (after making an account if you haven't already)."
   ]
  },
  {
   "cell_type": "code",
   "execution_count": 2,
   "metadata": {},
   "outputs": [
    {
     "name": "stdout",
     "output_type": "stream",
     "text": [
      "{\"error\": {\"code\": \"VALIDATION_ERROR\", \"description\": \"Please specify a location or a latitude and longitude\"}}\n"
     ]
    }
   ],
   "source": [
    "print(response.text)"
   ]
  },
  {
   "cell_type": "code",
   "execution_count": 37,
   "metadata": {},
   "outputs": [
    {
     "data": {
      "text/plain": [
       "'C:\\\\Users\\\\alevi\\\\.secret'"
      ]
     },
     "execution_count": 37,
     "metadata": {},
     "output_type": "execute_result"
    }
   ],
   "source": [
    "pwd"
   ]
  },
  {
   "cell_type": "code",
   "execution_count": 3,
   "metadata": {},
   "outputs": [
    {
     "data": {
      "text/plain": [
       "<Response [200]>"
      ]
     },
     "execution_count": 3,
     "metadata": {},
     "output_type": "execute_result"
    }
   ],
   "source": [
    "# Replace None with appropriate code\n",
    "\n",
    "# Import the requests library\n",
    "import requests\n",
    "\n",
    "# Get this from the \"Manage App\" page. Make sure you set them\n",
    "# back to None before pushing this to GitHub, since otherwise\n",
    "# your credentials will be compromised\n",
    "api_key = None\n",
    "\n",
    "# These can be whatever you want! But the solution uses \"pizza\"\n",
    "# and \"New York NY\" if you want to compare your work directly\n",
    "term = \"pizza\"\n",
    "location = \"New York NY\"\n",
    "\n",
    "# Set up params for request\n",
    "url = \"https://api.yelp.com/v3/businesses/search\"\n",
    "header = {\n",
    "    \"Authorization\": \"Bearer {}\".format(api_key)\n",
    "}\n",
    "url_params = {\n",
    "    \"term\": term.replace(\" \", \"+\"),\n",
    "    \"location\": location.replace(\" \", \"+\")\n",
    "}\n",
    "\n",
    "# Make the request using requests.get, passing in\n",
    "# url, headers=headers, and params=url_params\n",
    "response = requests.get(url, headers=header, params=url_params)\n",
    "\n",
    "# Confirm we got a 200 response\n",
    "response"
   ]
  },
  {
   "cell_type": "code",
   "execution_count": 4,
   "metadata": {},
   "outputs": [
    {
     "data": {
      "text/plain": [
       "dict_keys(['businesses', 'total', 'region'])"
      ]
     },
     "execution_count": 4,
     "metadata": {},
     "output_type": "execute_result"
    }
   ],
   "source": [
    "# Run this cell without changes\n",
    "\n",
    "# Get the response body in JSON format\n",
    "response_json = response.json()\n",
    "# View the keys\n",
    "response_json.keys()"
   ]
  },
  {
   "cell_type": "markdown",
   "metadata": {},
   "source": [
    "### Extracting Data\n",
    "\n",
    "Now, retrieve the value associated with the `'businesses'` key, and inspect its contents."
   ]
  },
  {
   "cell_type": "code",
   "execution_count": 5,
   "metadata": {},
   "outputs": [
    {
     "data": {
      "text/plain": [
       "[{'id': 'zj8Lq1T8KIC5zwFief15jg',\n",
       "  'alias': 'prince-street-pizza-new-york-2',\n",
       "  'name': 'Prince Street Pizza',\n",
       "  'image_url': 'https://s3-media2.fl.yelpcdn.com/bphoto/AaCoCIY53sQkaqrquNKRJQ/o.jpg',\n",
       "  'is_closed': False,\n",
       "  'url': 'https://www.yelp.com/biz/prince-street-pizza-new-york-2?adjust_creative=PDfFGnBchfiobDO5cZHDyw&utm_campaign=yelp_api_v3&utm_medium=api_v3_business_search&utm_source=PDfFGnBchfiobDO5cZHDyw',\n",
       "  'review_count': 4567,\n",
       "  'categories': [{'alias': 'pizza', 'title': 'Pizza'},\n",
       "   {'alias': 'italian', 'title': 'Italian'}],\n",
       "  'rating': 4.5,\n",
       "  'coordinates': {'latitude': 40.72308755605564,\n",
       "   'longitude': -73.99453001177575},\n",
       "  'transactions': ['delivery', 'pickup'],\n",
       "  'price': '$',\n",
       "  'location': {'address1': '27 Prince St',\n",
       "   'address2': None,\n",
       "   'address3': '',\n",
       "   'city': 'New York',\n",
       "   'zip_code': '10012',\n",
       "   'country': 'US',\n",
       "   'state': 'NY',\n",
       "   'display_address': ['27 Prince St', 'New York, NY 10012']},\n",
       "  'phone': '+12129664100',\n",
       "  'display_phone': '(212) 966-4100',\n",
       "  'distance': 1961.8771417367063},\n",
       " {'id': 'ysqgdbSrezXgVwER2kQWKA',\n",
       "  'alias': 'julianas-brooklyn-3',\n",
       "  'name': \"Juliana's\",\n",
       "  'image_url': 'https://s3-media2.fl.yelpcdn.com/bphoto/HB5-BoJaVwOP5wLMG57TlA/o.jpg',\n",
       "  'is_closed': False,\n",
       "  'url': 'https://www.yelp.com/biz/julianas-brooklyn-3?adjust_creative=PDfFGnBchfiobDO5cZHDyw&utm_campaign=yelp_api_v3&utm_medium=api_v3_business_search&utm_source=PDfFGnBchfiobDO5cZHDyw',\n",
       "  'review_count': 2547,\n",
       "  'categories': [{'alias': 'pizza', 'title': 'Pizza'}],\n",
       "  'rating': 4.5,\n",
       "  'coordinates': {'latitude': 40.70274718768062,\n",
       "   'longitude': -73.99343490196397},\n",
       "  'transactions': ['delivery'],\n",
       "  'price': '$$',\n",
       "  'location': {'address1': '19 Old Fulton St',\n",
       "   'address2': '',\n",
       "   'address3': '',\n",
       "   'city': 'Brooklyn',\n",
       "   'zip_code': '11201',\n",
       "   'country': 'US',\n",
       "   'state': 'NY',\n",
       "   'display_address': ['19 Old Fulton St', 'Brooklyn, NY 11201']},\n",
       "  'phone': '+17185966700',\n",
       "  'display_phone': '(718) 596-6700',\n",
       "  'distance': 308.56984360837544}]"
      ]
     },
     "execution_count": 5,
     "metadata": {},
     "output_type": "execute_result"
    }
   ],
   "source": [
    "# Replace None with appropriate code\n",
    "\n",
    "# Retrieve the value from response_json\n",
    "businesses = response_json['businesses']\n",
    "\n",
    "# View the first 2 records\n",
    "businesses[:2]"
   ]
  },
  {
   "cell_type": "markdown",
   "metadata": {},
   "source": [
    "### Preparing Data\n",
    "\n",
    "Write a function `prepare_data` that takes in a list of dictionaries like `businesses` and returns a copy that has been prepared for analysis:\n",
    "\n",
    "1. The `coordinates` key-value pair has been converted into two separate key-value pairs, `latitude` and `longitude`\n",
    "2. All other key-value pairs except for `name`, `review_count`, `rating`, and `price` have been dropped\n",
    "3. All dictionaries missing one of the relevant keys or containing null values have been dropped\n",
    "\n",
    "In other words, the final keys for each dictionary should be `name`, `review_count`, `rating`, `price`, `latitude`, and `longitude`.\n",
    "\n",
    "Complete the function in the cell below:"
   ]
  },
  {
   "cell_type": "code",
   "execution_count": 6,
   "metadata": {
    "collapsed": true
   },
   "outputs": [
    {
     "data": {
      "text/plain": [
       "[{'id': 'zj8Lq1T8KIC5zwFief15jg',\n",
       "  'alias': 'prince-street-pizza-new-york-2',\n",
       "  'name': 'Prince Street Pizza',\n",
       "  'image_url': 'https://s3-media2.fl.yelpcdn.com/bphoto/AaCoCIY53sQkaqrquNKRJQ/o.jpg',\n",
       "  'is_closed': False,\n",
       "  'url': 'https://www.yelp.com/biz/prince-street-pizza-new-york-2?adjust_creative=PDfFGnBchfiobDO5cZHDyw&utm_campaign=yelp_api_v3&utm_medium=api_v3_business_search&utm_source=PDfFGnBchfiobDO5cZHDyw',\n",
       "  'review_count': 4567,\n",
       "  'categories': [{'alias': 'pizza', 'title': 'Pizza'},\n",
       "   {'alias': 'italian', 'title': 'Italian'}],\n",
       "  'rating': 4.5,\n",
       "  'coordinates': {'latitude': 40.72308755605564,\n",
       "   'longitude': -73.99453001177575},\n",
       "  'transactions': ['delivery', 'pickup'],\n",
       "  'price': '$',\n",
       "  'location': {'address1': '27 Prince St',\n",
       "   'address2': None,\n",
       "   'address3': '',\n",
       "   'city': 'New York',\n",
       "   'zip_code': '10012',\n",
       "   'country': 'US',\n",
       "   'state': 'NY',\n",
       "   'display_address': ['27 Prince St', 'New York, NY 10012']},\n",
       "  'phone': '+12129664100',\n",
       "  'display_phone': '(212) 966-4100',\n",
       "  'distance': 1961.8771417367063},\n",
       " {'id': 'ysqgdbSrezXgVwER2kQWKA',\n",
       "  'alias': 'julianas-brooklyn-3',\n",
       "  'name': \"Juliana's\",\n",
       "  'image_url': 'https://s3-media2.fl.yelpcdn.com/bphoto/HB5-BoJaVwOP5wLMG57TlA/o.jpg',\n",
       "  'is_closed': False,\n",
       "  'url': 'https://www.yelp.com/biz/julianas-brooklyn-3?adjust_creative=PDfFGnBchfiobDO5cZHDyw&utm_campaign=yelp_api_v3&utm_medium=api_v3_business_search&utm_source=PDfFGnBchfiobDO5cZHDyw',\n",
       "  'review_count': 2547,\n",
       "  'categories': [{'alias': 'pizza', 'title': 'Pizza'}],\n",
       "  'rating': 4.5,\n",
       "  'coordinates': {'latitude': 40.70274718768062,\n",
       "   'longitude': -73.99343490196397},\n",
       "  'transactions': ['delivery'],\n",
       "  'price': '$$',\n",
       "  'location': {'address1': '19 Old Fulton St',\n",
       "   'address2': '',\n",
       "   'address3': '',\n",
       "   'city': 'Brooklyn',\n",
       "   'zip_code': '11201',\n",
       "   'country': 'US',\n",
       "   'state': 'NY',\n",
       "   'display_address': ['19 Old Fulton St', 'Brooklyn, NY 11201']},\n",
       "  'phone': '+17185966700',\n",
       "  'display_phone': '(718) 596-6700',\n",
       "  'distance': 308.56984360837544},\n",
       " {'id': 'uc5qQMzs96rzjK27epDCug',\n",
       "  'alias': 'joes-pizza-new-york-4',\n",
       "  'name': \"Joe's Pizza\",\n",
       "  'image_url': 'https://s3-media4.fl.yelpcdn.com/bphoto/1TvTRG9HFmEGaTSBMcUBhA/o.jpg',\n",
       "  'is_closed': False,\n",
       "  'url': 'https://www.yelp.com/biz/joes-pizza-new-york-4?adjust_creative=PDfFGnBchfiobDO5cZHDyw&utm_campaign=yelp_api_v3&utm_medium=api_v3_business_search&utm_source=PDfFGnBchfiobDO5cZHDyw',\n",
       "  'review_count': 2898,\n",
       "  'categories': [{'alias': 'pizza', 'title': 'Pizza'}],\n",
       "  'rating': 4.0,\n",
       "  'coordinates': {'latitude': 40.73060076, 'longitude': -74.00215997},\n",
       "  'transactions': ['delivery'],\n",
       "  'price': '$',\n",
       "  'location': {'address1': '7 Carmine St',\n",
       "   'address2': '',\n",
       "   'address3': '',\n",
       "   'city': 'New York',\n",
       "   'zip_code': '10014',\n",
       "   'country': 'US',\n",
       "   'state': 'NY',\n",
       "   'display_address': ['7 Carmine St', 'New York, NY 10014']},\n",
       "  'phone': '+12123661182',\n",
       "  'display_phone': '(212) 366-1182',\n",
       "  'distance': 2874.702513677348},\n",
       " {'id': 'KEEXuHCYhsQJ-zpJhu98bA',\n",
       "  'alias': 'joes-pizza-new-york-148',\n",
       "  'name': \"Joe's Pizza\",\n",
       "  'image_url': 'https://s3-media3.fl.yelpcdn.com/bphoto/RoIB9yMaHtpt31IfDcZMwA/o.jpg',\n",
       "  'is_closed': False,\n",
       "  'url': 'https://www.yelp.com/biz/joes-pizza-new-york-148?adjust_creative=PDfFGnBchfiobDO5cZHDyw&utm_campaign=yelp_api_v3&utm_medium=api_v3_business_search&utm_source=PDfFGnBchfiobDO5cZHDyw',\n",
       "  'review_count': 1655,\n",
       "  'categories': [{'alias': 'pizza', 'title': 'Pizza'}],\n",
       "  'rating': 4.0,\n",
       "  'coordinates': {'latitude': 40.7547, 'longitude': -73.98696},\n",
       "  'transactions': ['delivery', 'pickup'],\n",
       "  'price': '$',\n",
       "  'location': {'address1': '1435 Broadway',\n",
       "   'address2': '',\n",
       "   'address3': None,\n",
       "   'city': 'New York',\n",
       "   'zip_code': '10018',\n",
       "   'country': 'US',\n",
       "   'state': 'NY',\n",
       "   'display_address': ['1435 Broadway', 'New York, NY 10018']},\n",
       "  'phone': '+16465594878',\n",
       "  'display_phone': '(646) 559-4878',\n",
       "  'distance': 5508.746902433722},\n",
       " {'id': 'WG639VkTjmK5dzydd1BBJA',\n",
       "  'alias': 'rubirosa-new-york-2',\n",
       "  'name': 'Rubirosa',\n",
       "  'image_url': 'https://s3-media4.fl.yelpcdn.com/bphoto/LuSzR8cpVQRofXOT_bMi1A/o.jpg',\n",
       "  'is_closed': False,\n",
       "  'url': 'https://www.yelp.com/biz/rubirosa-new-york-2?adjust_creative=PDfFGnBchfiobDO5cZHDyw&utm_campaign=yelp_api_v3&utm_medium=api_v3_business_search&utm_source=PDfFGnBchfiobDO5cZHDyw',\n",
       "  'review_count': 2795,\n",
       "  'categories': [{'alias': 'italian', 'title': 'Italian'},\n",
       "   {'alias': 'pizza', 'title': 'Pizza'}],\n",
       "  'rating': 4.5,\n",
       "  'coordinates': {'latitude': 40.722766, 'longitude': -73.996233},\n",
       "  'transactions': ['pickup'],\n",
       "  'price': '$$',\n",
       "  'location': {'address1': '235 Mulberry St',\n",
       "   'address2': '',\n",
       "   'address3': '',\n",
       "   'city': 'New York',\n",
       "   'zip_code': '10012',\n",
       "   'country': 'US',\n",
       "   'state': 'NY',\n",
       "   'display_address': ['235 Mulberry St', 'New York, NY 10012']},\n",
       "  'phone': '+12129650500',\n",
       "  'display_phone': '(212) 965-0500',\n",
       "  'distance': 1932.9467701334759},\n",
       " {'id': 'v1DHGRNCH9247WLYoaoA9A',\n",
       "  'alias': 'l-industrie-pizzeria-brooklyn',\n",
       "  'name': \"L'industrie Pizzeria\",\n",
       "  'image_url': 'https://s3-media2.fl.yelpcdn.com/bphoto/8p1C3A7klRKSlJsqzcZbfA/o.jpg',\n",
       "  'is_closed': False,\n",
       "  'url': 'https://www.yelp.com/biz/l-industrie-pizzeria-brooklyn?adjust_creative=PDfFGnBchfiobDO5cZHDyw&utm_campaign=yelp_api_v3&utm_medium=api_v3_business_search&utm_source=PDfFGnBchfiobDO5cZHDyw',\n",
       "  'review_count': 796,\n",
       "  'categories': [{'alias': 'pizza', 'title': 'Pizza'}],\n",
       "  'rating': 4.5,\n",
       "  'coordinates': {'latitude': 40.71162, 'longitude': -73.95783},\n",
       "  'transactions': ['delivery'],\n",
       "  'price': '$',\n",
       "  'location': {'address1': '254 S 2nd St',\n",
       "   'address2': '',\n",
       "   'address3': '',\n",
       "   'city': 'Brooklyn',\n",
       "   'zip_code': '11211',\n",
       "   'country': 'US',\n",
       "   'state': 'NY',\n",
       "   'display_address': ['254 S 2nd St', 'Brooklyn, NY 11211']},\n",
       "  'phone': '+17185990002',\n",
       "  'display_phone': '(718) 599-0002',\n",
       "  'distance': 3145.016041338447},\n",
       " {'id': '0UdC0VYX6aAvLiOcpR4MVQ',\n",
       "  'alias': 'joes-pizza-new-york-7',\n",
       "  'name': \"Joe's Pizza\",\n",
       "  'image_url': 'https://s3-media3.fl.yelpcdn.com/bphoto/BTCcvlqxlp2MOeK_rHa8lQ/o.jpg',\n",
       "  'is_closed': False,\n",
       "  'url': 'https://www.yelp.com/biz/joes-pizza-new-york-7?adjust_creative=PDfFGnBchfiobDO5cZHDyw&utm_campaign=yelp_api_v3&utm_medium=api_v3_business_search&utm_source=PDfFGnBchfiobDO5cZHDyw',\n",
       "  'review_count': 1013,\n",
       "  'categories': [{'alias': 'pizza', 'title': 'Pizza'}],\n",
       "  'rating': 4.0,\n",
       "  'coordinates': {'latitude': 40.73331, 'longitude': -73.98763},\n",
       "  'transactions': ['delivery', 'pickup'],\n",
       "  'price': '$',\n",
       "  'location': {'address1': '150 E 14th St',\n",
       "   'address2': '',\n",
       "   'address3': '',\n",
       "   'city': 'New York',\n",
       "   'zip_code': '10003',\n",
       "   'country': 'US',\n",
       "   'state': 'NY',\n",
       "   'display_address': ['150 E 14th St', 'New York, NY 10003']},\n",
       "  'phone': '+12123889474',\n",
       "  'display_phone': '(212) 388-9474',\n",
       "  'distance': 3140.2631090277323},\n",
       " {'id': 'WIhm0W9197f_rRtDziq5qQ',\n",
       "  'alias': 'lombardis-pizza-new-york-4',\n",
       "  'name': \"Lombardi's Pizza\",\n",
       "  'image_url': 'https://s3-media1.fl.yelpcdn.com/bphoto/UZ6V_hobp1KpYDPOHNoCKw/o.jpg',\n",
       "  'is_closed': False,\n",
       "  'url': 'https://www.yelp.com/biz/lombardis-pizza-new-york-4?adjust_creative=PDfFGnBchfiobDO5cZHDyw&utm_campaign=yelp_api_v3&utm_medium=api_v3_business_search&utm_source=PDfFGnBchfiobDO5cZHDyw',\n",
       "  'review_count': 6446,\n",
       "  'categories': [{'alias': 'pizza', 'title': 'Pizza'}],\n",
       "  'rating': 4.0,\n",
       "  'coordinates': {'latitude': 40.7215934960083,\n",
       "   'longitude': -73.9955956044561},\n",
       "  'transactions': ['delivery', 'pickup'],\n",
       "  'price': '$$',\n",
       "  'location': {'address1': '32 Spring St',\n",
       "   'address2': '',\n",
       "   'address3': '',\n",
       "   'city': 'New York',\n",
       "   'zip_code': '10012',\n",
       "   'country': 'US',\n",
       "   'state': 'NY',\n",
       "   'display_address': ['32 Spring St', 'New York, NY 10012']},\n",
       "  'phone': '+12129417994',\n",
       "  'display_phone': '(212) 941-7994',\n",
       "  'distance': 1798.9959778083735},\n",
       " {'id': 'Q9F2ocrmYuGt1yn3M7MOBw',\n",
       "  'alias': 'lucali-brooklyn-3',\n",
       "  'name': 'Lucali',\n",
       "  'image_url': 'https://s3-media3.fl.yelpcdn.com/bphoto/Yl_eZ_DW_iaumnU-pfSoaw/o.jpg',\n",
       "  'is_closed': False,\n",
       "  'url': 'https://www.yelp.com/biz/lucali-brooklyn-3?adjust_creative=PDfFGnBchfiobDO5cZHDyw&utm_campaign=yelp_api_v3&utm_medium=api_v3_business_search&utm_source=PDfFGnBchfiobDO5cZHDyw',\n",
       "  'review_count': 1885,\n",
       "  'categories': [{'alias': 'pizza', 'title': 'Pizza'}],\n",
       "  'rating': 4.0,\n",
       "  'coordinates': {'latitude': 40.681840746711224, 'longitude': -74.0003327},\n",
       "  'transactions': ['delivery'],\n",
       "  'price': '$$',\n",
       "  'location': {'address1': '575 Henry St',\n",
       "   'address2': None,\n",
       "   'address3': '',\n",
       "   'city': 'Brooklyn',\n",
       "   'zip_code': '11231',\n",
       "   'country': 'US',\n",
       "   'state': 'NY',\n",
       "   'display_address': ['575 Henry St', 'Brooklyn, NY 11231']},\n",
       "  'phone': '+17188584086',\n",
       "  'display_phone': '(718) 858-4086',\n",
       "  'distance': 2673.589406211555},\n",
       " {'id': '4h4Tuuc56YPO6lWfZ1bdSQ',\n",
       "  'alias': 'joes-pizza-new-york-152',\n",
       "  'name': \"Joe's Pizza\",\n",
       "  'image_url': 'https://s3-media2.fl.yelpcdn.com/bphoto/yo5oXK2HmxMnvH_PqeABiA/o.jpg',\n",
       "  'is_closed': False,\n",
       "  'url': 'https://www.yelp.com/biz/joes-pizza-new-york-152?adjust_creative=PDfFGnBchfiobDO5cZHDyw&utm_campaign=yelp_api_v3&utm_medium=api_v3_business_search&utm_source=PDfFGnBchfiobDO5cZHDyw',\n",
       "  'review_count': 388,\n",
       "  'categories': [{'alias': 'pizza', 'title': 'Pizza'}],\n",
       "  'rating': 4.0,\n",
       "  'coordinates': {'latitude': 40.7101297729083,\n",
       "   'longitude': -74.0077206864953},\n",
       "  'transactions': ['delivery', 'pickup'],\n",
       "  'price': '$',\n",
       "  'location': {'address1': '124 Fulton St',\n",
       "   'address2': '',\n",
       "   'address3': None,\n",
       "   'city': 'New York',\n",
       "   'zip_code': '10038',\n",
       "   'country': 'US',\n",
       "   'state': 'NY',\n",
       "   'display_address': ['124 Fulton St', 'New York, NY 10038']},\n",
       "  'phone': '+12122670860',\n",
       "  'display_phone': '(212) 267-0860',\n",
       "  'distance': 1245.9428626945232},\n",
       " {'id': 'LF1QAuvpfX7KGQlg2zMg6Q',\n",
       "  'alias': 'johns-of-bleecker-street-new-york-2',\n",
       "  'name': \"John's of Bleecker Street\",\n",
       "  'image_url': 'https://s3-media3.fl.yelpcdn.com/bphoto/lB6BtfSBvY2aZ_kUoPWNwg/o.jpg',\n",
       "  'is_closed': False,\n",
       "  'url': 'https://www.yelp.com/biz/johns-of-bleecker-street-new-york-2?adjust_creative=PDfFGnBchfiobDO5cZHDyw&utm_campaign=yelp_api_v3&utm_medium=api_v3_business_search&utm_source=PDfFGnBchfiobDO5cZHDyw',\n",
       "  'review_count': 2405,\n",
       "  'categories': [{'alias': 'pizza', 'title': 'Pizza'}],\n",
       "  'rating': 4.0,\n",
       "  'coordinates': {'latitude': 40.73158, 'longitude': -74.00332},\n",
       "  'transactions': ['delivery', 'pickup'],\n",
       "  'price': '$$',\n",
       "  'location': {'address1': '278 Bleecker St',\n",
       "   'address2': '',\n",
       "   'address3': '',\n",
       "   'city': 'New York',\n",
       "   'zip_code': '10014',\n",
       "   'country': 'US',\n",
       "   'state': 'NY',\n",
       "   'display_address': ['278 Bleecker St', 'New York, NY 10014']},\n",
       "  'phone': '+12122431680',\n",
       "  'display_phone': '(212) 243-1680',\n",
       "  'distance': 3010.899021476809},\n",
       " {'id': 'GRXvvB1OKMuW4XDWEaVAlg',\n",
       "  'alias': 'joes-pizza-brooklyn-8',\n",
       "  'name': \"Joe's Pizza\",\n",
       "  'image_url': 'https://s3-media2.fl.yelpcdn.com/bphoto/7RQebflR3JvTcMWRbVC86g/o.jpg',\n",
       "  'is_closed': False,\n",
       "  'url': 'https://www.yelp.com/biz/joes-pizza-brooklyn-8?adjust_creative=PDfFGnBchfiobDO5cZHDyw&utm_campaign=yelp_api_v3&utm_medium=api_v3_business_search&utm_source=PDfFGnBchfiobDO5cZHDyw',\n",
       "  'review_count': 424,\n",
       "  'categories': [{'alias': 'pizza', 'title': 'Pizza'}],\n",
       "  'rating': 4.0,\n",
       "  'coordinates': {'latitude': 40.7168952, 'longitude': -73.95892996733771},\n",
       "  'transactions': ['delivery', 'pickup'],\n",
       "  'price': '$',\n",
       "  'location': {'address1': '216 Bedford Ave',\n",
       "   'address2': '',\n",
       "   'address3': None,\n",
       "   'city': 'Brooklyn',\n",
       "   'zip_code': '11249',\n",
       "   'country': 'US',\n",
       "   'state': 'NY',\n",
       "   'display_address': ['216 Bedford Ave', 'Brooklyn, NY 11249']},\n",
       "  'phone': '+17183882216',\n",
       "  'display_phone': '(718) 388-2216',\n",
       "  'distance': 3241.190355020982},\n",
       " {'id': '2ggi1luerd3Mf_C82JvCYg',\n",
       "  'alias': 'grimaldis-pizzeria-brooklyn-4',\n",
       "  'name': \"Grimaldi's Pizzeria\",\n",
       "  'image_url': 'https://s3-media1.fl.yelpcdn.com/bphoto/Ek1cwe4Dh74lu2P4BgHsFQ/o.jpg',\n",
       "  'is_closed': False,\n",
       "  'url': 'https://www.yelp.com/biz/grimaldis-pizzeria-brooklyn-4?adjust_creative=PDfFGnBchfiobDO5cZHDyw&utm_campaign=yelp_api_v3&utm_medium=api_v3_business_search&utm_source=PDfFGnBchfiobDO5cZHDyw',\n",
       "  'review_count': 4871,\n",
       "  'categories': [{'alias': 'pizza', 'title': 'Pizza'},\n",
       "   {'alias': 'desserts', 'title': 'Desserts'},\n",
       "   {'alias': 'beer_and_wine', 'title': 'Beer, Wine & Spirits'}],\n",
       "  'rating': 3.5,\n",
       "  'coordinates': {'latitude': 40.7026459, 'longitude': -73.9932413},\n",
       "  'transactions': ['delivery', 'pickup'],\n",
       "  'price': '$$',\n",
       "  'location': {'address1': '1 Front St',\n",
       "   'address2': '',\n",
       "   'address3': '',\n",
       "   'city': 'Brooklyn',\n",
       "   'zip_code': '11201',\n",
       "   'country': 'US',\n",
       "   'state': 'NY',\n",
       "   'display_address': ['1 Front St', 'Brooklyn, NY 11201']},\n",
       "  'phone': '+17188584300',\n",
       "  'display_phone': '(718) 858-4300',\n",
       "  'distance': 323.61541267581333},\n",
       " {'id': 'hGksyTiHBBdrhbiVjXzWVw',\n",
       "  'alias': 'scarrs-pizza-new-york',\n",
       "  'name': \"Scarr's Pizza\",\n",
       "  'image_url': 'https://s3-media3.fl.yelpcdn.com/bphoto/xonxGJK91P_Ow3iY7olsxA/o.jpg',\n",
       "  'is_closed': False,\n",
       "  'url': 'https://www.yelp.com/biz/scarrs-pizza-new-york?adjust_creative=PDfFGnBchfiobDO5cZHDyw&utm_campaign=yelp_api_v3&utm_medium=api_v3_business_search&utm_source=PDfFGnBchfiobDO5cZHDyw',\n",
       "  'review_count': 628,\n",
       "  'categories': [{'alias': 'pizza', 'title': 'Pizza'}],\n",
       "  'rating': 4.0,\n",
       "  'coordinates': {'latitude': 40.71534, 'longitude': -73.9914},\n",
       "  'transactions': ['delivery', 'pickup'],\n",
       "  'price': '$',\n",
       "  'location': {'address1': '22 Orchard St',\n",
       "   'address2': '',\n",
       "   'address3': '',\n",
       "   'city': 'New York',\n",
       "   'zip_code': '10002',\n",
       "   'country': 'US',\n",
       "   'state': 'NY',\n",
       "   'display_address': ['22 Orchard St', 'New York, NY 10002']},\n",
       "  'phone': '+12123343481',\n",
       "  'display_phone': '(212) 334-3481',\n",
       "  'distance': 1125.7843300426755},\n",
       " {'id': 'pGr5QuQU7Ur5GHLvXbT8bw',\n",
       "  'alias': 'paulie-gees-brooklyn',\n",
       "  'name': \"Paulie Gee's\",\n",
       "  'image_url': 'https://s3-media2.fl.yelpcdn.com/bphoto/1j39J4NABK_RBtO-l90QNg/o.jpg',\n",
       "  'is_closed': False,\n",
       "  'url': 'https://www.yelp.com/biz/paulie-gees-brooklyn?adjust_creative=PDfFGnBchfiobDO5cZHDyw&utm_campaign=yelp_api_v3&utm_medium=api_v3_business_search&utm_source=PDfFGnBchfiobDO5cZHDyw',\n",
       "  'review_count': 1322,\n",
       "  'categories': [{'alias': 'pizza', 'title': 'Pizza'}],\n",
       "  'rating': 4.5,\n",
       "  'coordinates': {'latitude': 40.729546, 'longitude': -73.958568},\n",
       "  'transactions': ['delivery'],\n",
       "  'price': '$$',\n",
       "  'location': {'address1': '60 Greenpoint Ave',\n",
       "   'address2': '',\n",
       "   'address3': '',\n",
       "   'city': 'Brooklyn',\n",
       "   'zip_code': '11222',\n",
       "   'country': 'US',\n",
       "   'state': 'NY',\n",
       "   'display_address': ['60 Greenpoint Ave', 'Brooklyn, NY 11222']},\n",
       "  'phone': '+13479873747',\n",
       "  'display_phone': '(347) 987-3747',\n",
       "  'distance': 4027.308250680752},\n",
       " {'id': 'm3PS0tIaa0ChcP8Y5S-DrQ',\n",
       "  'alias': 'mamas-too-new-york',\n",
       "  'name': \"MAMA'S TOO!\",\n",
       "  'image_url': 'https://s3-media4.fl.yelpcdn.com/bphoto/-0juREQc3teE6akY7asbyQ/o.jpg',\n",
       "  'is_closed': False,\n",
       "  'url': 'https://www.yelp.com/biz/mamas-too-new-york?adjust_creative=PDfFGnBchfiobDO5cZHDyw&utm_campaign=yelp_api_v3&utm_medium=api_v3_business_search&utm_source=PDfFGnBchfiobDO5cZHDyw',\n",
       "  'review_count': 579,\n",
       "  'categories': [{'alias': 'pizza', 'title': 'Pizza'},\n",
       "   {'alias': 'italian', 'title': 'Italian'}],\n",
       "  'rating': 3.5,\n",
       "  'coordinates': {'latitude': 40.80084, 'longitude': -73.96766},\n",
       "  'transactions': ['delivery'],\n",
       "  'price': '$$',\n",
       "  'location': {'address1': '2750 Broadway',\n",
       "   'address2': '',\n",
       "   'address3': None,\n",
       "   'city': 'New York',\n",
       "   'zip_code': '10025',\n",
       "   'country': 'US',\n",
       "   'state': 'NY',\n",
       "   'display_address': ['2750 Broadway', 'New York, NY 10025']},\n",
       "  'phone': '+12125107256',\n",
       "  'display_phone': '(212) 510-7256',\n",
       "  'distance': 10840.163726815497},\n",
       " {'id': 'vpkTNjq9dRh9rT3Nh0pe-A',\n",
       "  'alias': 'nolita-pizza-new-york-2',\n",
       "  'name': 'Nolita Pizza',\n",
       "  'image_url': 'https://s3-media3.fl.yelpcdn.com/bphoto/iY3qXRWquMC433WvPZdMmw/o.jpg',\n",
       "  'is_closed': False,\n",
       "  'url': 'https://www.yelp.com/biz/nolita-pizza-new-york-2?adjust_creative=PDfFGnBchfiobDO5cZHDyw&utm_campaign=yelp_api_v3&utm_medium=api_v3_business_search&utm_source=PDfFGnBchfiobDO5cZHDyw',\n",
       "  'review_count': 167,\n",
       "  'categories': [{'alias': 'pizza', 'title': 'Pizza'},\n",
       "   {'alias': 'gluten_free', 'title': 'Gluten-Free'},\n",
       "   {'alias': 'italian', 'title': 'Italian'}],\n",
       "  'rating': 4.5,\n",
       "  'coordinates': {'latitude': 40.7208883, 'longitude': -73.9962404},\n",
       "  'transactions': ['delivery', 'pickup'],\n",
       "  'price': '$',\n",
       "  'location': {'address1': '68 Kenmare St',\n",
       "   'address2': None,\n",
       "   'address3': None,\n",
       "   'city': 'New York',\n",
       "   'zip_code': '10012',\n",
       "   'country': 'US',\n",
       "   'state': 'NY',\n",
       "   'display_address': ['68 Kenmare St', 'New York, NY 10012']},\n",
       "  'phone': '+16468959131',\n",
       "  'display_phone': '(646) 895-9131',\n",
       "  'distance': 1725.0543086810944},\n",
       " {'id': 'oOr6Ta5gZyDl6PyZ1cq7pg',\n",
       "  'alias': 'east-village-pizza-new-york',\n",
       "  'name': 'East Village Pizza',\n",
       "  'image_url': 'https://s3-media2.fl.yelpcdn.com/bphoto/JiV117pdeH3hG6J91KfPeA/o.jpg',\n",
       "  'is_closed': False,\n",
       "  'url': 'https://www.yelp.com/biz/east-village-pizza-new-york?adjust_creative=PDfFGnBchfiobDO5cZHDyw&utm_campaign=yelp_api_v3&utm_medium=api_v3_business_search&utm_source=PDfFGnBchfiobDO5cZHDyw',\n",
       "  'review_count': 452,\n",
       "  'categories': [{'alias': 'pizza', 'title': 'Pizza'}],\n",
       "  'rating': 4.0,\n",
       "  'coordinates': {'latitude': 40.728199, 'longitude': -73.985182},\n",
       "  'transactions': ['delivery', 'pickup'],\n",
       "  'price': '$',\n",
       "  'location': {'address1': '145 1st Ave',\n",
       "   'address2': '',\n",
       "   'address3': '',\n",
       "   'city': 'New York',\n",
       "   'zip_code': '10003',\n",
       "   'country': 'US',\n",
       "   'state': 'NY',\n",
       "   'display_address': ['145 1st Ave', 'New York, NY 10003']},\n",
       "  'phone': '+12125294545',\n",
       "  'display_phone': '(212) 529-4545',\n",
       "  'distance': 2643.8575043591286},\n",
       " {'id': '16ZnHpuaaBt92XWeJHCC5A',\n",
       "  'alias': 'olio-e-più-new-york-7',\n",
       "  'name': 'Olio e Più',\n",
       "  'image_url': 'https://s3-media3.fl.yelpcdn.com/bphoto/Nn4I1SG0pYmqCyJPlArYOQ/o.jpg',\n",
       "  'is_closed': False,\n",
       "  'url': 'https://www.yelp.com/biz/olio-e-pi%C3%B9-new-york-7?adjust_creative=PDfFGnBchfiobDO5cZHDyw&utm_campaign=yelp_api_v3&utm_medium=api_v3_business_search&utm_source=PDfFGnBchfiobDO5cZHDyw',\n",
       "  'review_count': 3728,\n",
       "  'categories': [{'alias': 'pizza', 'title': 'Pizza'},\n",
       "   {'alias': 'italian', 'title': 'Italian'},\n",
       "   {'alias': 'cocktailbars', 'title': 'Cocktail Bars'}],\n",
       "  'rating': 4.5,\n",
       "  'coordinates': {'latitude': 40.733798036104304,\n",
       "   'longitude': -73.99977392649927},\n",
       "  'transactions': ['delivery', 'pickup'],\n",
       "  'price': '$$',\n",
       "  'location': {'address1': '3 Greenwich Ave',\n",
       "   'address2': None,\n",
       "   'address3': '',\n",
       "   'city': 'New York',\n",
       "   'zip_code': '10014',\n",
       "   'country': 'US',\n",
       "   'state': 'NY',\n",
       "   'display_address': ['3 Greenwich Ave', 'New York, NY 10014']},\n",
       "  'phone': '+12122436546',\n",
       "  'display_phone': '(212) 243-6546',\n",
       "  'distance': 3186.3804982206075},\n",
       " {'id': 'vfYhEpp0x-DrNjC6GSJjPQ',\n",
       "  'alias': 'artichoke-basilles-pizza-new-york-2',\n",
       "  'name': \"Artichoke Basille's Pizza\",\n",
       "  'image_url': 'https://s3-media3.fl.yelpcdn.com/bphoto/4krjwPml7pLVDnn56sf6AQ/o.jpg',\n",
       "  'is_closed': False,\n",
       "  'url': 'https://www.yelp.com/biz/artichoke-basilles-pizza-new-york-2?adjust_creative=PDfFGnBchfiobDO5cZHDyw&utm_campaign=yelp_api_v3&utm_medium=api_v3_business_search&utm_source=PDfFGnBchfiobDO5cZHDyw',\n",
       "  'review_count': 4133,\n",
       "  'categories': [{'alias': 'pizza', 'title': 'Pizza'}],\n",
       "  'rating': 4.0,\n",
       "  'coordinates': {'latitude': 40.7321124557704,\n",
       "   'longitude': -73.9839056828882},\n",
       "  'transactions': ['delivery', 'pickup'],\n",
       "  'price': '$',\n",
       "  'location': {'address1': '321 E 14th St',\n",
       "   'address2': '',\n",
       "   'address3': '',\n",
       "   'city': 'New York',\n",
       "   'zip_code': '10003',\n",
       "   'country': 'US',\n",
       "   'state': 'NY',\n",
       "   'display_address': ['321 E 14th St', 'New York, NY 10003']},\n",
       "  'phone': '+12122282004',\n",
       "  'display_phone': '(212) 228-2004',\n",
       "  'distance': 3091.822113723405}]"
      ]
     },
     "execution_count": 6,
     "metadata": {},
     "output_type": "execute_result"
    }
   ],
   "source": [
    "businesses"
   ]
  },
  {
   "cell_type": "code",
   "execution_count": 7,
   "metadata": {},
   "outputs": [
    {
     "data": {
      "text/plain": [
       "[{'name': 'Prince Street Pizza',\n",
       "  'review_count': 4567,\n",
       "  'rating': 4.5,\n",
       "  'price': '$',\n",
       "  'latitude': 40.72308755605564,\n",
       "  'longitude': -73.99453001177575},\n",
       " {'name': \"Juliana's\",\n",
       "  'review_count': 2547,\n",
       "  'rating': 4.5,\n",
       "  'price': '$$',\n",
       "  'latitude': 40.70274718768062,\n",
       "  'longitude': -73.99343490196397},\n",
       " {'name': \"Joe's Pizza\",\n",
       "  'review_count': 2898,\n",
       "  'rating': 4.0,\n",
       "  'price': '$',\n",
       "  'latitude': 40.73060076,\n",
       "  'longitude': -74.00215997},\n",
       " {'name': \"Joe's Pizza\",\n",
       "  'review_count': 1655,\n",
       "  'rating': 4.0,\n",
       "  'price': '$',\n",
       "  'latitude': 40.7547,\n",
       "  'longitude': -73.98696},\n",
       " {'name': 'Rubirosa',\n",
       "  'review_count': 2795,\n",
       "  'rating': 4.5,\n",
       "  'price': '$$',\n",
       "  'latitude': 40.722766,\n",
       "  'longitude': -73.996233}]"
      ]
     },
     "execution_count": 7,
     "metadata": {},
     "output_type": "execute_result"
    }
   ],
   "source": [
    "# Replace None with appropriate code\n",
    "\n",
    "def prepare_data(data_list):\n",
    "    \"\"\"\n",
    "    This function takes in a list of dictionaries and prepares it\n",
    "    for analysis\n",
    "    \"\"\"\n",
    "    \n",
    "    # Make a new list to hold results\n",
    "    results = []\n",
    "    \n",
    "    for business_data in data_list:\n",
    "    \n",
    "        # Make a new dictionary to hold prepared data for this business\n",
    "        prepared_data = {}\n",
    "        \n",
    "        for key in (\"name\", \"review_count\", \"rating\", \"price\"):\n",
    "            prepared_data[key] = business_data.get(key, None)\n",
    "    \n",
    "        # Parse and add latitude and longitude columns\n",
    "        coordinates = business_data[\"coordinates\"]\n",
    "        prepared_data[\"latitude\"] = coordinates[\"latitude\"]\n",
    "        prepared_data[\"longitude\"] = coordinates[\"longitude\"]\n",
    "        \n",
    "        # Add to list if all values are present\n",
    "        if all(prepared_data.values()):\n",
    "            results.append(prepared_data)\n",
    "    \n",
    "    return results\n",
    "    \n",
    "# Test out function\n",
    "prepared_businesses = prepare_data(businesses)\n",
    "prepared_businesses[:5]"
   ]
  },
  {
   "cell_type": "markdown",
   "metadata": {},
   "source": [
    "Check that your function created the correct keys:"
   ]
  },
  {
   "cell_type": "code",
   "execution_count": 8,
   "metadata": {},
   "outputs": [],
   "source": [
    "# Run this cell without changes\n",
    "\n",
    "assert sorted(list(prepared_businesses[0].keys())) == ['latitude', 'longitude', 'name', 'price', 'rating', 'review_count']"
   ]
  },
  {
   "cell_type": "markdown",
   "metadata": {},
   "source": [
    "The following code will differ depending on your query, but we expect there to be 20 businesses in the original list, and potentially fewer in the prepared list (if any of them were missing data):"
   ]
  },
  {
   "cell_type": "code",
   "execution_count": 9,
   "metadata": {},
   "outputs": [
    {
     "name": "stdout",
     "output_type": "stream",
     "text": [
      "Original: 20\n",
      "Prepared: 20\n"
     ]
    }
   ],
   "source": [
    "# Run this cell without changes\n",
    "print(\"Original:\", len(businesses))\n",
    "print(\"Prepared:\", len(prepared_businesses))"
   ]
  },
  {
   "cell_type": "markdown",
   "metadata": {},
   "source": [
    "Great! We will reuse this function once we have retrieved the full dataset."
   ]
  },
  {
   "cell_type": "markdown",
   "metadata": {},
   "source": [
    "## 2. Add Pagination\n",
    "\n",
    "Now that you are able to extract information from one page of the response, let's figure out how to request as many pages as possible.\n",
    "\n",
    "### Determining the Total\n",
    "\n",
    "Depending on the number of total results for your query, you will either retrieve all of the results, or just the first 1000 (if there are more than 1000 total).\n",
    "\n",
    "We can find the total number of results using the `\"total\"` key:"
   ]
  },
  {
   "cell_type": "code",
   "execution_count": 10,
   "metadata": {},
   "outputs": [
    {
     "data": {
      "text/plain": [
       "12200"
      ]
     },
     "execution_count": 10,
     "metadata": {},
     "output_type": "execute_result"
    }
   ],
   "source": [
    "# Run this cell without changes\n",
    "response_json[\"total\"]"
   ]
  },
  {
   "cell_type": "markdown",
   "metadata": {},
   "source": [
    "(This is specific to the implementation of the Yelp API. Some APIs will just tell you that there are more pages, or will tell you the number of pages total, rather than the total number of results. If you're not sure, always check the documentation.)\n",
    "\n",
    "In the cell below, assign the variable `total` to either the value shown above (if it is less than 1000), or 1000."
   ]
  },
  {
   "cell_type": "code",
   "execution_count": 11,
   "metadata": {},
   "outputs": [],
   "source": [
    "# Replace None with appropriate code\n",
    "total = 1000"
   ]
  },
  {
   "cell_type": "markdown",
   "metadata": {},
   "source": [
    "### Calculating the Offsets\n",
    "\n",
    "The documentation states in the parameters section:\n",
    "\n",
    "> **Name**: `limit`, **Type:** int, **Description:** Optional. Number of business results to return. By default, it will return 20. Maximum is 50.\n",
    "\n",
    "> **Name**: `offset`, **Type:** int, **Description:** Optional. Offset the list of returned business results by this amount.\n",
    "\n",
    "So, to get the most results with the fewest API calls we want to set a limit of 50 every time. If, say, we wanted to get 210 total results, that would mean:\n",
    "\n",
    "1. Offset of `0` (first 50 records)\n",
    "2. Offset of `50` (second 50 records)\n",
    "3. Offset of `100` (third 50 records)\n",
    "4. Offset of `150` (fourth 50 records)\n",
    "5. Offset of `200` (final 10 records)\n",
    "\n",
    "In the cell below, create a function `get_offsets` that takes in a total and returns a list of offsets for that total. You can assume that there is a limit of 50 every time.\n",
    "\n",
    "*Hint: you can use `range` ([documentation here](https://docs.python.org/3.3/library/stdtypes.html?highlight=range#range)) to do this in one line of code. Just make the returned result is a list.*"
   ]
  },
  {
   "cell_type": "code",
   "execution_count": 12,
   "metadata": {},
   "outputs": [],
   "source": [
    "# Replace None with appropriate code\n",
    "def get_offsets(total):\n",
    "    \"\"\"\n",
    "    Get a list of offsets needed to get all pages\n",
    "    of data up until the total\n",
    "    \"\"\"\n",
    "    return list(range(0, total, 50))"
   ]
  },
  {
   "cell_type": "markdown",
   "metadata": {},
   "source": [
    "Check that your function works below:"
   ]
  },
  {
   "cell_type": "code",
   "execution_count": 13,
   "metadata": {},
   "outputs": [],
   "source": [
    "# Run this cell without changes\n",
    "\n",
    "assert get_offsets(200) == [0, 50, 100, 150]\n",
    "assert get_offsets(210) == [0, 50, 100, 150, 200]"
   ]
  },
  {
   "cell_type": "markdown",
   "metadata": {},
   "source": [
    "### Putting It All Together\n",
    "\n",
    "Recall that the following variable has already been declared for you:"
   ]
  },
  {
   "cell_type": "code",
   "execution_count": 14,
   "metadata": {},
   "outputs": [
    {
     "data": {
      "text/plain": [
       "{'term': 'pizza', 'location': 'New+York+NY'}"
      ]
     },
     "execution_count": 14,
     "metadata": {},
     "output_type": "execute_result"
    }
   ],
   "source": [
    "# Run this cell without changes\n",
    "url_params"
   ]
  },
  {
   "cell_type": "markdown",
   "metadata": {},
   "source": [
    "We'll go ahead and also specify that the limit should be 50 every time:"
   ]
  },
  {
   "cell_type": "code",
   "execution_count": 15,
   "metadata": {},
   "outputs": [],
   "source": [
    "# Run this cell without changes\n",
    "url_params[\"limit\"] = 50"
   ]
  },
  {
   "cell_type": "markdown",
   "metadata": {},
   "source": [
    "In order to modify the offset, you'll need to add it to `url_params` with the key `\"offset\"` and whatever value is needed.\n",
    "\n",
    "In the cell below, write code that:\n",
    "\n",
    "* Creates an empty list for the full prepared dataset\n",
    "* Loops over all of the offsets from `get_offsets` and makes an API call each time with the specified offset\n",
    "* Calls `prepare_data` to get a cleaned version of the result of each API call\n",
    "* Extends the full prepared dataset list with each query's prepared dataset"
   ]
  },
  {
   "cell_type": "code",
   "execution_count": 49,
   "metadata": {},
   "outputs": [
    {
     "data": {
      "text/plain": [
       "766"
      ]
     },
     "execution_count": 49,
     "metadata": {},
     "output_type": "execute_result"
    }
   ],
   "source": [
    "# Create an empty list for the full prepared dataset\n",
    "full_dataset = []\n",
    "\n",
    "for offset in get_offsets(total):\n",
    "    # Add or update the \"offset\" key-value pair in url_params\n",
    "    url_params[\"offset\"] = offset\n",
    "    \n",
    "    # Make the query and get the response\n",
    "    response = requests.get(url, headers=header, params=url_params)\n",
    "    \n",
    "    # Get the response body in JSON format\n",
    "    response_json = response.json()\n",
    "    \n",
    "    # Get the list of businesses from the response_json\n",
    "    businesses = response_json[\"businesses\"]\n",
    "    \n",
    "    # Call the prepare_data function to get a list of processed data\n",
    "    prepared_businesses = prepare_data(businesses)\n",
    "    \n",
    "    # Extend full_dataset with this list (don't append, or you'll get\n",
    "    # a list of lists instead of a flat list)\n",
    "    full_dataset.extend(prepared_businesses)\n",
    "\n",
    "# Check the length of the full dataset. It will be up to `total`,\n",
    "# potentially less if there were missing values\n",
    "len(full_dataset)"
   ]
  },
  {
   "cell_type": "markdown",
   "metadata": {},
   "source": [
    "This code may take up to a few minutes to run.\n",
    "\n",
    "If you get an error trying to get the response body in JSON format, try adding `time.sleep(1)` right after the `requests.get` line, so your code will sleep for 1 second between each API call."
   ]
  },
  {
   "cell_type": "markdown",
   "metadata": {},
   "source": [
    "## 3. Perform Exploratory Analysis\n",
    "\n",
    "Take the businesses from the previous question and do an initial exploratory analysis. We have provided some plots for you to interpret:"
   ]
  },
  {
   "cell_type": "code",
   "execution_count": 47,
   "metadata": {},
   "outputs": [
    {
     "data": {
      "text/plain": [
       "424"
      ]
     },
     "execution_count": 47,
     "metadata": {},
     "output_type": "execute_result"
    }
   ],
   "source": [
    "full_dataset = full_dataset[1:]\n",
    "full_dataset[1]['review_count']\n"
   ]
  },
  {
   "cell_type": "code",
   "execution_count": 50,
   "metadata": {},
   "outputs": [
    {
     "data": {
      "image/png": "[encoded data removed]",
      "text/plain": [
       "<Figure size 1152x360 with 3 Axes>"
      ]
     },
     "metadata": {
      "needs_background": "light"
     },
     "output_type": "display_data"
    }
   ],
   "source": [
    "from collections import Counter\n",
    "import matplotlib.pyplot as plt\n",
    "%matplotlib inline\n",
    "\n",
    "fig, (ax1, ax2, ax3) = plt.subplots(ncols=3, figsize=(16, 5))\n",
    "\n",
    "# Plot distribution of number of reviews\n",
    "all_review_counts = [x['review_count'] for x in full_dataset]\n",
    "ax1.hist(all_review_counts)\n",
    "ax1.set_title(\"Review Count Distribution\")\n",
    "ax1.set_xlabel(\"Number of Reviews\")\n",
    "ax1.set_ylabel(\"Number of Businesses\")\n",
    "\n",
    "# Plot rating distribution\n",
    "all_ratings = [x[\"rating\"] for x in full_dataset]\n",
    "rating_counter = Counter(all_ratings)\n",
    "rating_keys = sorted(rating_counter.keys())\n",
    "ax2.bar(rating_keys, [rating_counter[key] for key in rating_keys])\n",
    "ax2.set_title(\"Rating Distribution\")\n",
    "ax2.set_xlabel(\"Rating\")\n",
    "ax2.set_ylabel(\"Number of Businesses\")\n",
    "\n",
    "# Plot price distribution\n",
    "all_prices = [x[\"price\"].replace(\"$\", r\"\\$\") for x in full_dataset]\n",
    "price_counter = Counter(all_prices)\n",
    "price_keys = sorted(price_counter.keys())\n",
    "ax3.bar(price_keys, [price_counter[key] for key in price_keys])\n",
    "ax3.set_title(\"Price Distribution\")\n",
    "ax3.set_xlabel(\"Price Category\")\n",
    "ax3.set_ylabel(\"Number of Businesses\");"
   ]
  },
  {
   "cell_type": "markdown",
   "metadata": {},
   "source": [
    "Describe the distributions displayed above and interpret them in the context of your query. (Your answer may differ from the solution branch depending on your query.)"
   ]
  },
  {
   "cell_type": "code",
   "execution_count": null,
   "metadata": {},
   "outputs": [],
   "source": [
    "# Replace None with appropriate text\n",
    "\"\"\"\n",
    "The review count shows a right skewed distribution with the majority of the data \n",
    "in the 0-2000 range. The rating distribution is closer to a normal distribution, with the \n",
    "mean sitting around 4/5. The price distribution is also slightly more right skewed as well,\n",
    "however the paramater of price is less discriptive. \n",
    "\"\"\""
   ]
  },
  {
   "cell_type": "markdown",
   "metadata": {},
   "source": [
    "In the cell below, we also plot the rating distributions by price. In this setup, a price of one dollar sign is \"lower price\" and everything else is \"higher price\"."
   ]
  },
  {
   "cell_type": "code",
   "execution_count": 51,
   "metadata": {},
   "outputs": [
    {
     "data": {
      "image/png": "[encoded data removed]",
      "text/plain": [
       "<Figure size 432x288 with 1 Axes>"
      ]
     },
     "metadata": {
      "needs_background": "light"
     },
     "output_type": "display_data"
    }
   ],
   "source": [
    "# Run this cell without changes\n",
    "\n",
    "higher_price = []\n",
    "lower_price = []\n",
    "for row in full_dataset:\n",
    "    if row[\"price\"] == \"$\":\n",
    "        lower_price.append(row[\"rating\"])\n",
    "    else:\n",
    "        higher_price.append(row[\"rating\"])\n",
    "        \n",
    "fig, ax = plt.subplots()\n",
    "\n",
    "ax.hist([higher_price, lower_price], label=[\"higher price\", \"lower price\"], density=True)\n",
    "\n",
    "ax.legend();"
   ]
  },
  {
   "cell_type": "markdown",
   "metadata": {},
   "source": [
    "Is a higher price associated with a higher rating? (No need for any additional math/statistics, just interpret what you see in the plot.)"
   ]
  },
  {
   "cell_type": "code",
   "execution_count": 53,
   "metadata": {},
   "outputs": [
    {
     "data": {
      "text/plain": [
       "'\\nNone\\n'"
      ]
     },
     "execution_count": 53,
     "metadata": {},
     "output_type": "execute_result"
    }
   ],
   "source": [
    "# Replace None with appropriate text\n",
    "\"\"\"\n",
    "According to the graph above, we see that the higher prices appear to be correlated\n",
    "with the higher ratings. The businesses with ratings close to 4 are where the highest \n",
    "prices are assocated, along with very few high ratings at lower prices. \n",
    "\"\"\""
   ]
  },
  {
   "cell_type": "markdown",
   "metadata": {},
   "source": [
    "Finally, let's look at ratings vs. review counts:"
   ]
  },
  {
   "cell_type": "code",
   "execution_count": 52,
   "metadata": {},
   "outputs": [
    {
     "data": {
      "image/png": "[encoded data removed]",
      "text/plain": [
       "<Figure size 1152x360 with 1 Axes>"
      ]
     },
     "metadata": {
      "needs_background": "light"
     },
     "output_type": "display_data"
    }
   ],
   "source": [
    "# Run this cell without changes\n",
    "fig, ax = plt.subplots(figsize=(16,5))\n",
    "\n",
    "ax.scatter(all_review_counts, all_ratings, alpha=0.2)\n",
    "ax.set_xlabel(\"Number of Reviews\")\n",
    "ax.set_ylabel(\"Rating\")\n",
    "# \"zoom in\" to a subset of review counts\n",
    "ax.set_xlim(left=0, right=1000);"
   ]
  },
  {
   "cell_type": "markdown",
   "metadata": {},
   "source": [
    "Is a higher number of reviews associated with a higher rating?"
   ]
  },
  {
   "cell_type": "code",
   "execution_count": null,
   "metadata": {},
   "outputs": [],
   "source": [
    "# Replace None with appropriate text\n",
    "\"\"\"\n",
    "The graph shows that there isn't necessarily an association with rating to number of reviews.\n",
    "The idea behind reviews is if the place is worth mentioning, it likely has more traffic\n",
    "and it depends on the type of businesses. There is a consistent amount of volume from a \n",
    "rating of 3.5 to 4.5.\n",
    "\"\"\""
   ]
  },
  {
   "cell_type": "markdown",
   "metadata": {},
   "source": [
    "## 4. Create a Folium Map\n",
    "\n",
    "Make a map using Folium of the businesses you retrieved. Be sure to also add popups to the markers giving some basic information such as name, rating and price.\n",
    "\n",
    "You can center the map around the latitude and longitude of the first item in `full_dataset`."
   ]
  },
  {
   "cell_type": "code",
   "execution_count": 54,
   "metadata": {},
   "outputs": [
    {
     "data": {
      "text/html": [
       "<div style=\"width:100%;\"><div style=\"position:relative;width:100%;height:0;padding-bottom:60%;\"><span style=\"color:#565656\">Make this Notebook Trusted to load map: File -> Trust Notebook</span><iframe src=\"about:blank\" style=\"position:absolute;width:100%;height:100%;left:0;top:0;border:none !important;\" data-html=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 onload=\"this.contentDocument.open();this.contentDocument.write(atob(this.getAttribute('data-html')));this.contentDocument.close();\" allowfullscreen webkitallowfullscreen mozallowfullscreen></iframe></div></div>"
      ],
      "text/plain": [
       "<folium.folium.Map at 0x175728a8f40>"
      ]
     },
     "execution_count": 54,
     "metadata": {},
     "output_type": "execute_result"
    }
   ],
   "source": [
    "# Import the library\n",
    "import folium\n",
    "\n",
    "# Set up center latitude and longitude\n",
    "center_lat = full_dataset[0][\"latitude\"]\n",
    "center_long = full_dataset[0][\"longitude\"]\n",
    "\n",
    "# Initialize map with center lat and long\n",
    "yelp_map = folium.Map([center_lat, center_long], zoom_start=12)\n",
    "\n",
    "# Adjust this limit to see more or fewer businesses\n",
    "limit=100\n",
    "\n",
    "for business in full_dataset[:limit]:\n",
    "    # Extract information about business\n",
    "    lat = business[\"latitude\"]\n",
    "    long = business[\"longitude\"]\n",
    "    name = business[\"name\"]\n",
    "    rating = business[\"rating\"]\n",
    "    price = business[\"price\"]\n",
    "    details = \"{}\\nPrice: {}\\nRating: {}\".format(name,price,rating)\n",
    "    \n",
    "    # Create popup with relevant details\n",
    "    popup = folium.Popup(details)\n",
    "    \n",
    "    # Create marker with relevant lat/long and popup\n",
    "    marker = folium.Marker([lat, long], popup=popup)\n",
    "    \n",
    "    marker.add_to(yelp_map)\n",
    "\n",
    "yelp_map"
   ]
  },
  {
   "cell_type": "markdown",
   "metadata": {},
   "source": [
    "## Summary\n",
    "\n",
    "Nice work! In this lab, you've made multiple API calls to Yelp in order to paginate through a results set, performing some basic exploratory analysis and then creating a nice interactive map to display the results using Folium! Well done!"
   ]
  }
 ],
 "metadata": {
  "kernelspec": {
   "display_name": "Python 3",
   "language": "python",
   "name": "python3"
  },
  "language_info": {
   "codemirror_mode": {
    "name": "ipython",
    "version": 3
   },
   "file_extension": ".py",
   "mimetype": "text/x-python",
   "name": "python",
   "nbconvert_exporter": "python",
   "pygments_lexer": "ipython3",
   "version": "3.8.5"
  },
  "toc": {
   "base_numbering": 1,
   "nav_menu": {},
   "number_sections": true,
   "sideBar": true,
   "skip_h1_title": false,
   "title_cell": "Table of Contents",
   "title_sidebar": "Contents",
   "toc_cell": false,
   "toc_position": {},
   "toc_section_display": true,
   "toc_window_display": false
  }
 },
 "nbformat": 4,
 "nbformat_minor": 2
}
